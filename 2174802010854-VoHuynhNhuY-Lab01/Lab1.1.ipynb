{
 "cells": [
  {
   "cell_type": "markdown",
   "metadata": {},
   "source": [
    "1. Xác định và phân loại dữ liệu định tính và định lượng"
   ]
  },
  {
   "cell_type": "code",
   "execution_count": 1,
   "metadata": {},
   "outputs": [
    {
     "name": "stdout",
     "output_type": "stream",
     "text": [
      "<class 'pandas.core.frame.DataFrame'>\n",
      "RangeIndex: 100 entries, 0 to 99\n",
      "Data columns (total 56 columns):\n",
      " #   Column  Non-Null Count  Dtype  \n",
      "---  ------  --------------  -----  \n",
      " 0   STT     100 non-null    int64  \n",
      " 1   T1      100 non-null    float64\n",
      " 2   L1      100 non-null    float64\n",
      " 3   H1      100 non-null    float64\n",
      " 4   S1      100 non-null    float64\n",
      " 5   V1      100 non-null    float64\n",
      " 6   X1      100 non-null    float64\n",
      " 7   D1      100 non-null    float64\n",
      " 8   N1      100 non-null    float64\n",
      " 9   T2      100 non-null    float64\n",
      " 10  L2      100 non-null    float64\n",
      " 11  H2      100 non-null    float64\n",
      " 12  S2      100 non-null    float64\n",
      " 13  V2      100 non-null    float64\n",
      " 14  X2      100 non-null    float64\n",
      " 15  D2      100 non-null    float64\n",
      " 16  N2      100 non-null    float64\n",
      " 17  T3      100 non-null    float64\n",
      " 18  L3      100 non-null    float64\n",
      " 19  H3      100 non-null    float64\n",
      " 20  S3      100 non-null    float64\n",
      " 21  V3      100 non-null    float64\n",
      " 22  X3      100 non-null    float64\n",
      " 23  D3      100 non-null    float64\n",
      " 24  N3      100 non-null    float64\n",
      " 25  T4      100 non-null    float64\n",
      " 26  L4      100 non-null    float64\n",
      " 27  H4      100 non-null    float64\n",
      " 28  S4      100 non-null    float64\n",
      " 29  V4      100 non-null    float64\n",
      " 30  X4      100 non-null    float64\n",
      " 31  D4      100 non-null    float64\n",
      " 32  N4      100 non-null    float64\n",
      " 33  T5      100 non-null    float64\n",
      " 34  L5      100 non-null    float64\n",
      " 35  H5      100 non-null    float64\n",
      " 36  S5      100 non-null    float64\n",
      " 37  V5      100 non-null    float64\n",
      " 38  X5      100 non-null    float64\n",
      " 39  D5      100 non-null    float64\n",
      " 40  N5      100 non-null    float64\n",
      " 41  T6      100 non-null    float64\n",
      " 42  L6      100 non-null    float64\n",
      " 43  H6      100 non-null    float64\n",
      " 44  S6      100 non-null    float64\n",
      " 45  V6      100 non-null    float64\n",
      " 46  X6      100 non-null    float64\n",
      " 47  D6      100 non-null    float64\n",
      " 48  N6      100 non-null    float64\n",
      " 49  GT      100 non-null    object \n",
      " 50  DT      3 non-null      float64\n",
      " 51  KV      100 non-null    object \n",
      " 52  DH1     100 non-null    float64\n",
      " 53  DH2     100 non-null    float64\n",
      " 54  DH3     100 non-null    float64\n",
      " 55  KT      100 non-null    object \n",
      "dtypes: float64(52), int64(1), object(3)\n",
      "memory usage: 43.9+ KB\n",
      "None\n"
     ]
    }
   ],
   "source": [
    "import pandas as pd\n",
    "\n",
    "# Đọc dữ liệu từ file CSV\n",
    "data = pd.read_csv(\"dulieuxettuyendaihoc.csv\")\n",
    "\n",
    "# In ra thông tin về các cột dữ liệu\n",
    "print(data.info())"
   ]
  },
  {
   "cell_type": "markdown",
   "metadata": {},
   "source": [
    "2. Định nghĩa các thang đo phù hợp cho từng biến số "
   ]
  },
  {
   "cell_type": "code",
   "execution_count": 3,
   "metadata": {},
   "outputs": [
    {
     "name": "stdout",
     "output_type": "stream",
     "text": [
      "<class 'pandas.core.frame.DataFrame'>\n",
      "RangeIndex: 100 entries, 0 to 99\n",
      "Data columns (total 56 columns):\n",
      " #   Column  Non-Null Count  Dtype  \n",
      "---  ------  --------------  -----  \n",
      " 0   STT     100 non-null    int64  \n",
      " 1   T1      100 non-null    float64\n",
      " 2   L1      100 non-null    float64\n",
      " 3   H1      100 non-null    float64\n",
      " 4   S1      100 non-null    float64\n",
      " 5   V1      100 non-null    float64\n",
      " 6   X1      100 non-null    float64\n",
      " 7   D1      100 non-null    float64\n",
      " 8   N1      100 non-null    float64\n",
      " 9   T2      100 non-null    float64\n",
      " 10  L2      100 non-null    float64\n",
      " 11  H2      100 non-null    float64\n",
      " 12  S2      100 non-null    float64\n",
      " 13  V2      100 non-null    float64\n",
      " 14  X2      100 non-null    float64\n",
      " 15  D2      100 non-null    float64\n",
      " 16  N2      100 non-null    float64\n",
      " 17  T3      100 non-null    float64\n",
      " 18  L3      100 non-null    float64\n",
      " 19  H3      100 non-null    float64\n",
      " 20  S3      100 non-null    float64\n",
      " 21  V3      100 non-null    float64\n",
      " 22  X3      100 non-null    float64\n",
      " 23  D3      100 non-null    float64\n",
      " 24  N3      100 non-null    float64\n",
      " 25  T4      100 non-null    float64\n",
      " 26  L4      100 non-null    float64\n",
      " 27  H4      100 non-null    float64\n",
      " 28  S4      100 non-null    float64\n",
      " 29  V4      100 non-null    float64\n",
      " 30  X4      100 non-null    float64\n",
      " 31  D4      100 non-null    float64\n",
      " 32  N4      100 non-null    float64\n",
      " 33  T5      100 non-null    float64\n",
      " 34  L5      100 non-null    float64\n",
      " 35  H5      100 non-null    float64\n",
      " 36  S5      100 non-null    float64\n",
      " 37  V5      100 non-null    float64\n",
      " 38  X5      100 non-null    float64\n",
      " 39  D5      100 non-null    float64\n",
      " 40  N5      100 non-null    float64\n",
      " 41  T6      100 non-null    float64\n",
      " 42  L6      100 non-null    float64\n",
      " 43  H6      100 non-null    float64\n",
      " 44  S6      100 non-null    float64\n",
      " 45  V6      100 non-null    float64\n",
      " 46  X6      100 non-null    float64\n",
      " 47  D6      100 non-null    float64\n",
      " 48  N6      100 non-null    float64\n",
      " 49  GT      100 non-null    object \n",
      " 50  DT      3 non-null      float64\n",
      " 51  KV      100 non-null    object \n",
      " 52  DH1     100 non-null    float64\n",
      " 53  DH2     100 non-null    float64\n",
      " 54  DH3     100 non-null    float64\n",
      " 55  KT      100 non-null    object \n",
      "dtypes: float64(52), int64(1), object(3)\n",
      "memory usage: 43.9+ KB\n",
      "None\n",
      "Giá trị lớn nhất của cột T1: 9.3\n",
      "Giá trị nhỏ nhất của cột T1: 2.4\n",
      "GT\n",
      "M    52\n",
      "F    48\n",
      "Name: count, dtype: int64\n"
     ]
    }
   ],
   "source": [
    "import pandas as pd\n",
    "\n",
    "# Đọc dữ liệu từ file CSV\n",
    "data = pd.read_csv(\"dulieuxettuyendaihoc.csv\")\n",
    "\n",
    "# In ra thông tin về các cột dữ liệu\n",
    "print(data.info())\n",
    "\n",
    "# Ví dụ: Kiểm tra giá trị lớn nhất và nhỏ nhất của cột 'T1'\n",
    "print(f\"Giá trị lớn nhất của cột T1: {data['T1'].max()}\")\n",
    "print(f\"Giá trị nhỏ nhất của cột T1: {data['T1'].min()}\")\n",
    "\n",
    "# Ví dụ: Đếm tần số xuất hiện của các giá trị trong cột 'GT'\n",
    "print(data['GT'].value_counts())"
   ]
  },
  {
   "cell_type": "markdown",
   "metadata": {},
   "source": [
    "3. Sử dụng Python để tải dữ liệu lên chương trình và in ra màn hình 10 dòng đầu tiên và 10 \n",
    "dòng cuối cùng "
   ]
  },
  {
   "cell_type": "code",
   "execution_count": 4,
   "metadata": {},
   "outputs": [
    {
     "name": "stdout",
     "output_type": "stream",
     "text": [
      "10 dòng đầu tiên:\n",
      "   STT   T1   L1   H1   S1   V1   X1   D1   N1   T2  ...   X6   D6   N6  GT  \\\n",
      "0    1  7.2  7.3  6.3  7.3  7.0  7.9  7.3  5.5  8.4  ...  6.6  7.6  5.9   F   \n",
      "1    2  5.4  3.9  3.9  4.0  5.4  5.4  5.3  2.8  6.3  ...  6.6  6.1  4.4   M   \n",
      "2    3  5.6  6.8  7.2  7.5  4.3  7.4  5.8  3.2  5.0  ...  7.9  8.1  4.6   M   \n",
      "3    4  6.6  6.4  5.3  6.9  5.4  7.3  6.4  5.8  5.1  ...  7.1  7.3  7.4   M   \n",
      "4    5  6.0  5.0  6.0  7.3  6.5  7.7  7.9  6.1  5.4  ...  6.1  7.5  7.2   M   \n",
      "5    6  9.3  7.6  7.9  8.6  7.0  7.3  7.7  7.9  9.6  ...  5.7  8.0  7.8   M   \n",
      "6    7  2.8  3.9  5.5  6.9  5.0  7.3  4.6  5.2  4.4  ...  6.6  6.0  6.0   F   \n",
      "7    8  8.3  6.0  7.6  5.1  7.5  4.7  5.8  7.2  6.7  ...  7.1  6.8  7.0   F   \n",
      "8    9  6.5  6.3  7.6  6.0  5.5  7.1  6.3  5.0  7.3  ...  9.1  7.9  6.1   F   \n",
      "9   10  7.3  5.9  4.7  7.1  6.7  7.9  6.7  7.7  8.0  ...  6.4  6.1  7.8   F   \n",
      "\n",
      "   DT   KV   DH1   DH2   DH3  KT  \n",
      "0 NaN  2NT  3.25  3.25  4.50  A1  \n",
      "1 NaN    1  6.00  4.00  3.50   C  \n",
      "2 NaN    1  5.00  6.75  4.00   C  \n",
      "3 NaN    1  4.25  4.25  5.25  D1  \n",
      "4 NaN  2NT  4.25  4.50  5.00   A  \n",
      "5 NaN    1  1.50  4.00  6.00  D1  \n",
      "6 NaN    2  6.50  6.75  5.25   C  \n",
      "7 NaN    2  3.75  4.50  4.25  D1  \n",
      "8 NaN    1  3.50  3.50  6.75  D1  \n",
      "9 NaN    1  4.00  4.75  5.50  D1  \n",
      "\n",
      "[10 rows x 56 columns]\n",
      "\n",
      "10 dòng cuối cùng:\n",
      "    STT   T1   L1   H1   S1   V1   X1   D1   N1   T2  ...   X6   D6   N6  GT  \\\n",
      "90   91  8.1  7.7  9.1  8.5  6.1  8.6  8.8  7.3  8.8  ...  8.3  8.7  7.8   M   \n",
      "91   92  7.8  6.5  6.7  5.4  6.2  4.8  5.9  4.4  8.9  ...  7.2  7.4  7.0   M   \n",
      "92   93  5.0  6.6  6.5  7.2  5.8  6.7  6.4  6.0  6.8  ...  5.9  6.7  5.8   M   \n",
      "93   94  5.2  5.2  6.8  7.9  6.6  8.9  7.6  5.3  6.8  ...  8.7  7.8  5.0   M   \n",
      "94   95  5.8  5.9  7.6  6.1  5.3  8.1  6.1  5.0  6.4  ...  7.3  6.8  5.3   M   \n",
      "95   96  8.6  6.9  7.4  8.8  7.6  5.8  7.3  5.7  8.9  ...  6.3  6.1  6.2   F   \n",
      "96   97  3.7  5.4  6.0  5.1  5.5  3.9  6.1  4.4  4.1  ...  7.9  7.5  4.4   F   \n",
      "97   98  8.8  5.5  7.4  7.7  6.2  7.3  8.1  4.5  9.5  ...  9.6  8.4  5.8   M   \n",
      "98   99  2.7  1.8  3.4  5.3  4.5  7.9  4.9  3.8  2.8  ...  6.6  5.2  5.9   M   \n",
      "99  100  4.1  5.2  4.9  5.3  5.5  5.4  7.2  5.4  4.4  ...  5.6  6.6  5.8   M   \n",
      "\n",
      "    DT   KV   DH1   DH2   DH3  KT  \n",
      "90 NaN    2  6.25  4.00  6.50   A  \n",
      "91 NaN  2NT  4.75  4.75  4.50   A  \n",
      "92 NaN    1  3.25  5.25  4.25   A  \n",
      "93 NaN    1  3.50  4.25  5.00   A  \n",
      "94 NaN    1  4.25  2.50  4.75   A  \n",
      "95 NaN    1  5.25  1.50  6.25   C  \n",
      "96 NaN    1  5.25  3.75  4.75   C  \n",
      "97 NaN  2NT  7.00  8.00  4.00   C  \n",
      "98 NaN    1  5.00  3.50  5.50   C  \n",
      "99 NaN  2NT  5.25  2.50  4.25   C  \n",
      "\n",
      "[10 rows x 56 columns]\n"
     ]
    }
   ],
   "source": [
    "import pandas as pd\n",
    "\n",
    "# Giả sử dữ liệu của bạn được lưu trong file CSV tên là 'dulieuxettuyendaihoc.csv'\n",
    "data = pd.read_csv('dulieuxettuyendaihoc.csv')\n",
    "\n",
    "# In 10 dòng đầu tiên\n",
    "print(\"10 dòng đầu tiên:\")\n",
    "print(data.head(10))\n",
    "\n",
    "# In 10 dòng cuối cùng\n",
    "print(\"\\n10 dòng cuối cùng:\")\n",
    "print(data.tail(10))"
   ]
  },
  {
   "cell_type": "markdown",
   "metadata": {},
   "source": [
    "4. Thống kê dữ liệu thiếu cho cột dân tộc và hiệu chỉnh dữ liệu thiếu như sau: Mặc định thiếu \n",
    "thì điền giá trị 0."
   ]
  },
  {
   "cell_type": "code",
   "execution_count": 5,
   "metadata": {},
   "outputs": [
    {
     "name": "stdout",
     "output_type": "stream",
     "text": [
      "\n",
      "Thống kê dữ liệu thiếu cho cột 'DT':\n",
      "97\n",
      "\n",
      "Bảng tần số và tần suất của cột 'DT':\n",
      "DT\n",
      "1.0    2\n",
      "6.0    1\n",
      "Name: count, dtype: int64\n",
      "\n",
      "Số lượng giá trị riêng biệt trong cột 'DT':\n",
      "2\n",
      "\n",
      "Kiểm tra lại dữ liệu thiếu sau khi điền:\n",
      "0\n"
     ]
    }
   ],
   "source": [
    "# 1. Thống kê dữ liệu thiếu\n",
    "print(\"\\nThống kê dữ liệu thiếu cho cột 'DT':\")\n",
    "print(data['DT'].isnull().sum())\n",
    "\n",
    "# 2. Bảng tần số, tần suất\n",
    "print(\"\\nBảng tần số và tần suất của cột 'DT':\")\n",
    "print(data['DT'].value_counts())\n",
    "\n",
    "# 3. Số lượng giá trị riêng biệt\n",
    "print(\"\\nSố lượng giá trị riêng biệt trong cột 'DT':\")\n",
    "print(data['DT'].nunique())\n",
    "\n",
    "# 4. Điền giá trị thiếu bằng 0\n",
    "data['DT'] = data['DT'].fillna(0)\n",
    "\n",
    "# Kiểm tra lại sau khi điền\n",
    "print(\"\\nKiểm tra lại dữ liệu thiếu sau khi điền:\")\n",
    "print(data['DT'].isnull().sum())"
   ]
  },
  {
   "cell_type": "markdown",
   "metadata": {},
   "source": [
    "5. Thống kê dữ liệu thiếu cho biến T1 và hiệu chỉnh dữ liệu, lưu ý việc thay thế dữ liệu thiếu sử \n",
    "dụng phương pháp Mean. "
   ]
  },
  {
   "cell_type": "code",
   "execution_count": 6,
   "metadata": {},
   "outputs": [
    {
     "name": "stdout",
     "output_type": "stream",
     "text": [
      "Thống kê dữ liệu thiếu cho cột 'T1':\n",
      "0\n",
      "\n",
      "Bảng tần số và tần suất của cột 'T1':\n",
      "T1\n",
      "5.2    5\n",
      "7.3    5\n",
      "5.3    5\n",
      "6.0    4\n",
      "7.2    4\n",
      "7.9    4\n",
      "4.9    3\n",
      "5.4    3\n",
      "5.0    3\n",
      "8.2    3\n",
      "6.5    3\n",
      "5.5    3\n",
      "6.3    3\n",
      "8.8    2\n",
      "7.1    2\n",
      "8.3    2\n",
      "6.4    2\n",
      "3.6    2\n",
      "8.1    2\n",
      "6.6    2\n",
      "5.6    2\n",
      "5.7    2\n",
      "5.8    2\n",
      "3.0    2\n",
      "5.1    2\n",
      "9.3    1\n",
      "3.9    1\n",
      "2.5    1\n",
      "2.8    1\n",
      "2.4    1\n",
      "3.4    1\n",
      "4.3    1\n",
      "4.4    1\n",
      "4.7    1\n",
      "4.5    1\n",
      "2.6    1\n",
      "7.6    1\n",
      "6.7    1\n",
      "6.9    1\n",
      "6.1    1\n",
      "7.0    1\n",
      "6.2    1\n",
      "4.6    1\n",
      "4.2    1\n",
      "7.5    1\n",
      "4.8    1\n",
      "5.9    1\n",
      "8.4    1\n",
      "7.8    1\n",
      "8.6    1\n",
      "3.7    1\n",
      "2.7    1\n",
      "4.1    1\n",
      "Name: count, dtype: int64\n",
      "\n",
      "Số lượng giá trị riêng biệt trong cột 'T1':\n",
      "53\n",
      "\n",
      "Kiểm tra lại dữ liệu thiếu sau khi điền:\n",
      "0\n",
      "\n",
      "Một vài giá trị đã được thay thế:\n",
      "0    7.2\n",
      "1    5.4\n",
      "2    5.6\n",
      "3    6.6\n",
      "4    6.0\n",
      "5    9.3\n",
      "6    2.8\n",
      "7    8.3\n",
      "8    6.5\n",
      "9    7.3\n",
      "Name: T1, dtype: float64\n"
     ]
    }
   ],
   "source": [
    "import pandas as pd\n",
    "\n",
    "# Giả sử dữ liệu của bạn được lưu trong file CSV tên là 'dulieuxettuyendaihoc.csv'\n",
    "data = pd.read_csv('dulieuxettuyendaihoc.csv')\n",
    "\n",
    "# Thống kê dữ liệu thiếu cho cột 'T1'\n",
    "print(\"Thống kê dữ liệu thiếu cho cột 'T1':\")\n",
    "print(data['T1'].isnull().sum())\n",
    "\n",
    "# Bảng tần số, tần suất\n",
    "print(\"\\nBảng tần số và tần suất của cột 'T1':\")\n",
    "print(data['T1'].value_counts())\n",
    "\n",
    "# Số lượng giá trị riêng biệt\n",
    "print(\"\\nSố lượng giá trị riêng biệt trong cột 'T1':\")\n",
    "print(data['T1'].nunique())\n",
    "\n",
    "# Tính giá trị Mean của cột 'T1'\n",
    "mean_t1 = data['T1'].mean()\n",
    "\n",
    "# Điền giá trị thiếu bằng giá trị Mean\n",
    "data['T1'] = data['T1'].fillna(mean_t1)\n",
    "\n",
    "# Kiểm tra lại sau khi điền\n",
    "print(\"\\nKiểm tra lại dữ liệu thiếu sau khi điền:\")\n",
    "print(data['T1'].isnull().sum())\n",
    "\n",
    "# In ra một vài giá trị đã được thay thế để kiểm tra\n",
    "print(\"\\nMột vài giá trị đã được thay thế:\")\n",
    "print(data['T1'].head(10))"
   ]
  },
  {
   "cell_type": "markdown",
   "metadata": {},
   "source": [
    "6. Hãy thực hiện xử lý lần lượt tất cả dữ liệu thiếu cho các biến về điểm số còn lại. "
   ]
  },
  {
   "cell_type": "code",
   "execution_count": 7,
   "metadata": {},
   "outputs": [
    {
     "name": "stdout",
     "output_type": "stream",
     "text": [
      "L1    0\n",
      "H1    0\n",
      "S1    0\n",
      "V1    0\n",
      "X1    0\n",
      "D1    0\n",
      "N1    0\n",
      "L2    0\n",
      "H2    0\n",
      "S2    0\n",
      "V2    0\n",
      "X2    0\n",
      "D2    0\n",
      "N2    0\n",
      "L6    0\n",
      "H6    0\n",
      "S6    0\n",
      "V6    0\n",
      "X6    0\n",
      "D6    0\n",
      "N6    0\n",
      "dtype: int64\n"
     ]
    }
   ],
   "source": [
    "import pandas as pd\n",
    "import numpy as np\n",
    "\n",
    "# Đọc dữ liệu từ file CSV\n",
    "data = pd.read_csv(\"dulieuxettuyendaihoc.csv\")\n",
    "\n",
    "# Danh sách các cột điểm số cần xử lý\n",
    "diem_so_cols = ['L1', 'H1', 'S1', 'V1', 'X1', 'D1', 'N1', \n",
    "                'L2', 'H2', 'S2', 'V2', 'X2', 'D2', 'N2',\n",
    "                'L6', 'H6', 'S6', 'V6', 'X6', 'D6', 'N6']\n",
    "\n",
    "# Xử lý dữ liệu thiếu bằng phương pháp Mean cho từng cột\n",
    "for col in diem_so_cols:\n",
    "    mean_col = data[col].mean()\n",
    "    data[col] = data[col].fillna(mean_col)\n",
    "\n",
    "# Kiểm tra lại dữ liệu thiếu\n",
    "print(data[diem_so_cols].isnull().sum())"
   ]
  },
  {
   "cell_type": "markdown",
   "metadata": {},
   "source": [
    "7. Tạo các biến TBM1, TBM2, TBM3 tương ứng với trung bình môn của các năm lớp 10, 11 và \n",
    "12"
   ]
  },
  {
   "cell_type": "code",
   "execution_count": 8,
   "metadata": {},
   "outputs": [
    {
     "name": "stdout",
     "output_type": "stream",
     "text": [
      "   TBM1  TBM2  TBM3\n",
      "0  7.00  7.54  7.01\n",
      "1  4.69  5.47  5.07\n",
      "2  5.77  5.38  6.04\n",
      "3  6.21  5.20  6.88\n",
      "4  6.50  6.36  6.99\n"
     ]
    }
   ],
   "source": [
    "data['TBM1'] = (data['T1']*2 + data['L1'] + data['H1'] + data['S1'] + \n",
    "                data['V1']*2 + data['X1'] + data['D1'] + data['N1']) / 10\n",
    "data['TBM2'] = (data['T2']*2 + data['L2'] + data['H2'] + data['S2'] + \n",
    "                data['V2']*2 + data['X2'] + data['D2'] + data['N2']) / 10\n",
    "data['TBM3'] = (data['T6']*2 + data['L6'] + data['H6'] + data['S6'] + \n",
    "                data['V6']*2 + data['X6'] + data['D6'] + data['N6']) / 10\n",
    "\n",
    "print(data[['TBM1', 'TBM2', 'TBM3']].head())"
   ]
  },
  {
   "cell_type": "markdown",
   "metadata": {},
   "source": [
    "8. Tạo các biến xếp loại XL1, XL2 và XL3 dựa trên TBM1,TBM2 và TBM3 cho từng năm lớp \n",
    "10, 11, 12 như sau: \n",
    "\n",
    "• Nhỏ hơn 5.0 xếp loại: yếu (kí hiệu là Y) \n",
    "\n",
    "• Từ 5.0 đến dưới 6.5: trung bình (kí hiệu là TB) \n",
    "\n",
    "• Từ 6.5 đến dưới 8.0: khá (kí hiệu là K) \n",
    "\n",
    "• Từ 8.0 đến dưới 9.0: giỏi (kí hiệu là G) \n",
    "\n",
    "• Từ 9.0 trở lên: xuất sắc (kí hiệu là XS) "
   ]
  },
  {
   "cell_type": "code",
   "execution_count": 9,
   "metadata": {},
   "outputs": [
    {
     "name": "stdout",
     "output_type": "stream",
     "text": [
      "  XL1 XL2 XL3\n",
      "0   K   K   K\n",
      "1   Y  TB  TB\n",
      "2  TB  TB  TB\n",
      "3  TB  TB   K\n",
      "4   K  TB   K\n"
     ]
    }
   ],
   "source": [
    "def xep_loai(diem):\n",
    "    if diem < 5.0:\n",
    "        return 'Y'\n",
    "    elif diem < 6.5:\n",
    "        return 'TB'\n",
    "    elif diem < 8.0:\n",
    "        return 'K'\n",
    "    elif diem < 9.0:\n",
    "        return 'G'\n",
    "    else:\n",
    "        return 'XS'\n",
    "\n",
    "data['XL1'] = data['TBM1'].apply(xep_loai)\n",
    "data['XL2'] = data['TBM2'].apply(xep_loai)\n",
    "data['XL3'] = data['TBM3'].apply(xep_loai)\n",
    "\n",
    "print(data[['XL1', 'XL2', 'XL3']].head())"
   ]
  },
  {
   "cell_type": "markdown",
   "metadata": {},
   "source": [
    "9. Tạo các biến US_TBM1, US_TBM2 và US_TBM3 để chuyển điểm trung bình các năm lớp \n",
    "10, 11 và 12 từ thang điểm 10 của Việt Nam sang thang điểm 4 của Mỹ. Sử dụng phương \n",
    "pháp Min-Max Normalization "
   ]
  },
  {
   "cell_type": "code",
   "execution_count": 10,
   "metadata": {},
   "outputs": [
    {
     "name": "stdout",
     "output_type": "stream",
     "text": [
      "    US_TBM1   US_TBM2   US_TBM3\n",
      "0  2.930693  3.029126  2.537143\n",
      "1  0.643564  1.019417  0.320000\n",
      "2  1.712871  0.932039  1.428571\n",
      "3  2.148515  0.757282  2.388571\n",
      "4  2.435644  1.883495  2.514286\n"
     ]
    }
   ],
   "source": [
    "def min_max_normalize(value, min_val, max_val):\n",
    "    return (value - min_val) / (max_val - min_val) * 4\n",
    "\n",
    "data['US_TBM1'] = data['TBM1'].apply(lambda x: min_max_normalize(x, data['TBM1'].min(), data['TBM1'].max()))\n",
    "data['US_TBM2'] = data['TBM2'].apply(lambda x: min_max_normalize(x, data['TBM2'].min(), data['TBM2'].max()))\n",
    "data['US_TBM3'] = data['TBM3'].apply(lambda x: min_max_normalize(x, data['TBM3'].min(), data['TBM3'].max()))\n",
    "\n",
    "print(data[['US_TBM1', 'US_TBM2', 'US_TBM3']].head())"
   ]
  },
  {
   "cell_type": "markdown",
   "metadata": {},
   "source": [
    "10. Tạo biến kết quả xét tuyển (kí hiệu là KQXT) nhằm xác định sinh viên đậu (giá trị “1”) và \n",
    "rớt ( giá trị “0”) vào các khối dựa trên điểm DH1, DH2 và DH3 như sau \n",
    "\n",
    "• Với khối A, A1 nếu [(DH1*2 + DH2 + DH3)/4] lớn hơn hoặc bằng 5.0 thì đậu, \n",
    "ngược lại là rớt \n",
    "\n",
    "• Với khối B nếu [(DH1 + DH2*2 + DH3)/4] lớn hơn hoặc bằng 5.0 thì đậu, ngược \n",
    "lại là rớt \n",
    "\n",
    "• Với khối khác nếu [(DH1+ DH2 + DH3)/3] lớn hơn hoặc bằng 5.0 thì đậu, ngược \n",
    "lại là rớt "
   ]
  },
  {
   "cell_type": "code",
   "execution_count": 11,
   "metadata": {},
   "outputs": [
    {
     "name": "stdout",
     "output_type": "stream",
     "text": [
      "   KT   DH1   DH2   DH3  KQXT\n",
      "0  A1  3.25  3.25  4.50     0\n",
      "1   C  6.00  4.00  3.50     0\n",
      "2   C  5.00  6.75  4.00     1\n",
      "3  D1  4.25  4.25  5.25     0\n",
      "4   A  4.25  4.50  5.00     0\n"
     ]
    }
   ],
   "source": [
    "def xet_tuyen(row):\n",
    "    if row['KT'] in ['A', 'A1']:\n",
    "        if (row['DH1']*2 + row['DH2'] + row['DH3']) / 4 >= 5.0:\n",
    "            return 1\n",
    "        else:\n",
    "            return 0\n",
    "    elif row['KT'] == 'B':\n",
    "        if (row['DH1'] + row['DH2']*2 + row['DH3']) / 4 >= 5.0:\n",
    "            return 1\n",
    "        else:\n",
    "            return 0\n",
    "    else:\n",
    "        if (row['DH1'] + row['DH2'] + row['DH3']) / 3 >= 5.0:\n",
    "            return 1\n",
    "        else:\n",
    "            return 0\n",
    "\n",
    "data['KQXT'] = data.apply(xet_tuyen, axis=1)\n",
    "\n",
    "print(data[['KT', 'DH1', 'DH2', 'DH3', 'KQXT']].head())"
   ]
  }
 ],
 "metadata": {
  "kernelspec": {
   "display_name": "Python 3",
   "language": "python",
   "name": "python3"
  },
  "language_info": {
   "codemirror_mode": {
    "name": "ipython",
    "version": 3
   },
   "file_extension": ".py",
   "mimetype": "text/x-python",
   "name": "python",
   "nbconvert_exporter": "python",
   "pygments_lexer": "ipython3",
   "version": "3.13.1"
  }
 },
 "nbformat": 4,
 "nbformat_minor": 2
}
