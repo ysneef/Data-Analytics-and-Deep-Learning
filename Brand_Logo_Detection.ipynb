{
  "metadata": {
    "kernelspec": {
      "language": "python",
      "display_name": "Python 3",
      "name": "python3"
    },
    "language_info": {
      "pygments_lexer": "ipython3",
      "nbconvert_exporter": "python",
      "version": "3.6.4",
      "file_extension": ".py",
      "codemirror_mode": {
        "name": "ipython",
        "version": 3
      },
      "name": "python",
      "mimetype": "text/x-python"
    },
    "colab": {
      "name": "Xception! - Flickr27 : Brand Logo Detection",
      "provenance": [],
      "include_colab_link": true
    }
  },
  "nbformat_minor": 0,
  "nbformat": 4,
  "cells": [
    {
      "cell_type": "markdown",
      "metadata": {
        "id": "view-in-github",
        "colab_type": "text"
      },
      "source": [
        "<a href=\"https://colab.research.google.com/github/ysneef/Data-Analytics-and-Deep-Learning/blob/main/Brand_Logo_Detection.ipynb\" target=\"_parent\"><img src=\"https://colab.research.google.com/assets/colab-badge.svg\" alt=\"Open In Colab\"/></a>"
      ]
    },
    {
      "source": [
        "# IMPORTANT: RUN THIS CELL IN ORDER TO IMPORT YOUR KAGGLE DATA SOURCES,\n",
        "# THEN FEEL FREE TO DELETE THIS CELL.\n",
        "# NOTE: THIS NOTEBOOK ENVIRONMENT DIFFERS FROM KAGGLE'S PYTHON\n",
        "# ENVIRONMENT SO THERE MAY BE MISSING LIBRARIES USED BY YOUR\n",
        "# NOTEBOOK.\n",
        "import kagglehub\n",
        "sushovansaha9_flickr_logos_27_dataset_path = kagglehub.dataset_download('sushovansaha9/flickr-logos-27-dataset')\n",
        "\n",
        "print('Data source import complete.')\n"
      ],
      "metadata": {
        "id": "o5FeUcnqa2up"
      },
      "cell_type": "code",
      "outputs": [],
      "execution_count": null
    },
    {
      "cell_type": "markdown",
      "source": [
        "## Xception\n",
        "## Xception is a deep convolutional neural network architecture that involves Depthwise Separable Convolutions. This network was introduced Francois Chollet who works at Google, Inc.\n",
        "\n",
        "https://iq.opengenus.org/xception-model/#:~:text=Xception%20is%20a%20deep%20convolutional,version%20of%20an%20Inception%20module.\n",
        "\n",
        "* Xception is also known as “extreme” version of an Inception module.\n",
        "![image.png](attachment:12dd3e4d-7c50-4f67-b9ef-c8bb2d585fe5.png) | ![image.png](attachment:8c4f2d90-6d54-4ab5-be21-7b73bc812d98.png)"
      ],
      "metadata": {
        "id": "s4JmKNhwa2ur"
      }
    },
    {
      "cell_type": "code",
      "source": [
        "# import the necessary packages\n",
        "!pip install imutils\n",
        "!pip install wget\n",
        "from tensorflow.keras.preprocessing.image import ImageDataGenerator\n",
        "from tensorflow.keras.applications import MobileNetV2\n",
        "from tensorflow.keras.layers import AveragePooling2D\n",
        "from tensorflow.keras.applications import Xception\n",
        "from tensorflow.keras.layers import Dropout,Convolution2D,MaxPooling2D\n",
        "from tensorflow.keras.layers import Flatten\n",
        "from tensorflow.keras.layers import Dense\n",
        "from tensorflow.keras.layers import Input\n",
        "from tensorflow.keras.models import Model\n",
        "from tensorflow.keras import Sequential\n",
        "from tensorflow.keras.optimizers import Adam,SGD\n",
        "from tensorflow.keras.applications.mobilenet_v2 import preprocess_input\n",
        "from tensorflow.keras.preprocessing.image import img_to_array\n",
        "from tensorflow.keras.preprocessing.image import load_img\n",
        "from tensorflow.keras.utils import to_categorical\n",
        "from sklearn.preprocessing import LabelBinarizer\n",
        "from sklearn.model_selection import train_test_split\n",
        "from sklearn.metrics import classification_report\n",
        "from imutils import paths\n",
        "import matplotlib.pyplot as plt\n",
        "import numpy as np\n",
        "import argparse\n",
        "import os\n",
        "import wget\n",
        "import cv2\n",
        "import tensorflow as tf\n",
        "import tensorflow_datasets.public_api as tfds"
      ],
      "metadata": {
        "id": "gBPYtKzUraUO",
        "execution": {
          "iopub.status.busy": "2022-05-15T10:12:16.582524Z",
          "iopub.execute_input": "2022-05-15T10:12:16.58284Z",
          "iopub.status.idle": "2022-05-15T10:12:48.301619Z",
          "shell.execute_reply.started": "2022-05-15T10:12:16.58276Z",
          "shell.execute_reply": "2022-05-15T10:12:48.300677Z"
        },
        "trusted": true
      },
      "execution_count": null,
      "outputs": []
    },
    {
      "cell_type": "markdown",
      "source": [
        "## Downloading Dataset"
      ],
      "metadata": {
        "id": "U1f4mEPCa2ut"
      }
    },
    {
      "cell_type": "code",
      "source": [
        "_URL = 'http://image.ntua.gr/iva/datasets/flickr_logos/flickr_logos_27_dataset.tar.gz'\n",
        "wget.download(_URL)"
      ],
      "metadata": {
        "id": "2w1kfnoNuvdU",
        "execution": {
          "iopub.status.busy": "2022-05-15T10:12:48.307407Z",
          "iopub.execute_input": "2022-05-15T10:12:48.307737Z",
          "iopub.status.idle": "2022-05-15T10:13:47.522648Z",
          "shell.execute_reply.started": "2022-05-15T10:12:48.3077Z",
          "shell.execute_reply": "2022-05-15T10:13:47.521941Z"
        },
        "trusted": true
      },
      "execution_count": null,
      "outputs": []
    },
    {
      "cell_type": "code",
      "source": [
        "!ls"
      ],
      "metadata": {
        "execution": {
          "iopub.status.busy": "2022-05-15T10:13:47.524126Z",
          "iopub.execute_input": "2022-05-15T10:13:47.524378Z",
          "iopub.status.idle": "2022-05-15T10:13:48.194193Z",
          "shell.execute_reply.started": "2022-05-15T10:13:47.524345Z",
          "shell.execute_reply": "2022-05-15T10:13:48.193369Z"
        },
        "trusted": true,
        "id": "s8l-00nIa2uu"
      },
      "execution_count": null,
      "outputs": []
    },
    {
      "cell_type": "code",
      "source": [
        "zip_dir = tf.keras.utils.get_file('./logo', origin=_URL, untar=True,extract=True)"
      ],
      "metadata": {
        "execution": {
          "iopub.status.busy": "2022-05-15T10:13:48.196895Z",
          "iopub.execute_input": "2022-05-15T10:13:48.197223Z",
          "iopub.status.idle": "2022-05-15T10:14:16.829971Z",
          "shell.execute_reply.started": "2022-05-15T10:13:48.197186Z",
          "shell.execute_reply": "2022-05-15T10:14:16.829239Z"
        },
        "trusted": true,
        "id": "j79-C1mYa2uu"
      },
      "execution_count": null,
      "outputs": []
    },
    {
      "cell_type": "code",
      "source": [
        "import tarfile\n",
        "\n",
        "fname = './flickr_logos_27_dataset.tar.gz'\n",
        "\n",
        "if fname.endswith(\"tar.gz\"):\n",
        "    tar = tarfile.open(fname, \"r:gz\")\n",
        "    tar.extractall()\n",
        "    tar.close()"
      ],
      "metadata": {
        "id": "pLXxWcqJ4U4S",
        "execution": {
          "iopub.status.busy": "2022-05-15T10:14:16.831492Z",
          "iopub.execute_input": "2022-05-15T10:14:16.831762Z",
          "iopub.status.idle": "2022-05-15T10:14:17.167271Z",
          "shell.execute_reply.started": "2022-05-15T10:14:16.831695Z",
          "shell.execute_reply": "2022-05-15T10:14:17.166387Z"
        },
        "trusted": true
      },
      "execution_count": null,
      "outputs": []
    },
    {
      "cell_type": "code",
      "source": [
        "fname = './flickr_logos_27_dataset/flickr_logos_27_dataset_images.tar.gz'\n",
        "\n",
        "if fname.endswith(\"tar.gz\"):\n",
        "    tar = tarfile.open(fname, \"r:gz\")\n",
        "    tar.extractall()\n",
        "    tar.close()"
      ],
      "metadata": {
        "id": "DSUiys0P5xj-",
        "execution": {
          "iopub.status.busy": "2022-05-15T10:14:17.168923Z",
          "iopub.execute_input": "2022-05-15T10:14:17.169215Z",
          "iopub.status.idle": "2022-05-15T10:14:17.978857Z",
          "shell.execute_reply.started": "2022-05-15T10:14:17.16918Z",
          "shell.execute_reply": "2022-05-15T10:14:17.978054Z"
        },
        "trusted": true
      },
      "execution_count": null,
      "outputs": []
    },
    {
      "cell_type": "code",
      "source": [
        "src_dir = \"flickr_logos_27_dataset_images\"\n",
        "dest = \"LOGOS\"\n",
        "\n",
        "if not os.path.exists(dest):\n",
        "    os.makedirs(dest)"
      ],
      "metadata": {
        "id": "2T_6FRvr6ct4",
        "execution": {
          "iopub.status.busy": "2022-05-15T10:14:17.980149Z",
          "iopub.execute_input": "2022-05-15T10:14:17.980387Z",
          "iopub.status.idle": "2022-05-15T10:14:17.986123Z",
          "shell.execute_reply.started": "2022-05-15T10:14:17.980355Z",
          "shell.execute_reply": "2022-05-15T10:14:17.984576Z"
        },
        "trusted": true
      },
      "execution_count": null,
      "outputs": []
    },
    {
      "cell_type": "markdown",
      "source": [
        "## Preprocessing"
      ],
      "metadata": {
        "id": "_nPa1Kloa2uv"
      }
    },
    {
      "cell_type": "code",
      "source": [
        "import pandas as pd"
      ],
      "metadata": {
        "id": "opHoq3-LAzBw",
        "execution": {
          "iopub.status.busy": "2022-05-15T10:14:17.987339Z",
          "iopub.execute_input": "2022-05-15T10:14:17.988034Z",
          "iopub.status.idle": "2022-05-15T10:14:17.995822Z",
          "shell.execute_reply.started": "2022-05-15T10:14:17.987978Z",
          "shell.execute_reply": "2022-05-15T10:14:17.994241Z"
        },
        "trusted": true
      },
      "execution_count": null,
      "outputs": []
    },
    {
      "cell_type": "code",
      "source": [
        "df = pd.read_csv(\"./flickr_logos_27_dataset/flickr_logos_27_dataset_training_set_annotation.txt\", sep='\\s+',header=None)"
      ],
      "metadata": {
        "id": "PW6txK1lAdWm",
        "execution": {
          "iopub.status.busy": "2022-05-15T10:14:17.997245Z",
          "iopub.execute_input": "2022-05-15T10:14:17.9981Z",
          "iopub.status.idle": "2022-05-15T10:14:18.017566Z",
          "shell.execute_reply.started": "2022-05-15T10:14:17.998059Z",
          "shell.execute_reply": "2022-05-15T10:14:18.016909Z"
        },
        "trusted": true
      },
      "execution_count": null,
      "outputs": []
    },
    {
      "cell_type": "code",
      "source": [
        "df"
      ],
      "metadata": {
        "id": "mdFg6RjkAwr7",
        "execution": {
          "iopub.status.busy": "2022-05-15T10:14:18.020775Z",
          "iopub.execute_input": "2022-05-15T10:14:18.020963Z",
          "iopub.status.idle": "2022-05-15T10:14:18.042286Z",
          "shell.execute_reply.started": "2022-05-15T10:14:18.020933Z",
          "shell.execute_reply": "2022-05-15T10:14:18.041646Z"
        },
        "trusted": true
      },
      "execution_count": null,
      "outputs": []
    },
    {
      "cell_type": "code",
      "source": [
        "X = df.iloc[:,0]\n",
        "Y = df.iloc[:,1]"
      ],
      "metadata": {
        "id": "M5x5oIEb0ApY",
        "execution": {
          "iopub.status.busy": "2022-05-15T10:14:18.043348Z",
          "iopub.execute_input": "2022-05-15T10:14:18.043666Z",
          "iopub.status.idle": "2022-05-15T10:14:18.048557Z",
          "shell.execute_reply.started": "2022-05-15T10:14:18.043632Z",
          "shell.execute_reply": "2022-05-15T10:14:18.047842Z"
        },
        "trusted": true
      },
      "execution_count": null,
      "outputs": []
    },
    {
      "cell_type": "code",
      "source": [
        "dtdir = './flickr_logos_27_dataset_images/'"
      ],
      "metadata": {
        "id": "JrHTDiAsEDPK",
        "execution": {
          "iopub.status.busy": "2022-05-15T10:14:18.050175Z",
          "iopub.execute_input": "2022-05-15T10:14:18.050692Z",
          "iopub.status.idle": "2022-05-15T10:14:18.057815Z",
          "shell.execute_reply.started": "2022-05-15T10:14:18.050651Z",
          "shell.execute_reply": "2022-05-15T10:14:18.056917Z"
        },
        "trusted": true
      },
      "execution_count": null,
      "outputs": []
    },
    {
      "cell_type": "code",
      "source": [
        "im = df[0][0]"
      ],
      "metadata": {
        "id": "M57_9LjXDr9Y",
        "execution": {
          "iopub.status.busy": "2022-05-15T10:14:18.059568Z",
          "iopub.execute_input": "2022-05-15T10:14:18.060344Z",
          "iopub.status.idle": "2022-05-15T10:14:18.067161Z",
          "shell.execute_reply.started": "2022-05-15T10:14:18.060302Z",
          "shell.execute_reply": "2022-05-15T10:14:18.066473Z"
        },
        "trusted": true
      },
      "execution_count": null,
      "outputs": []
    },
    {
      "cell_type": "code",
      "source": [
        "size = df.iloc[:,3:]"
      ],
      "metadata": {
        "id": "GHW47r8vFAY5",
        "execution": {
          "iopub.status.busy": "2022-05-15T10:14:18.06981Z",
          "iopub.execute_input": "2022-05-15T10:14:18.070464Z",
          "iopub.status.idle": "2022-05-15T10:14:18.077893Z",
          "shell.execute_reply.started": "2022-05-15T10:14:18.070435Z",
          "shell.execute_reply": "2022-05-15T10:14:18.077236Z"
        },
        "trusted": true
      },
      "execution_count": null,
      "outputs": []
    },
    {
      "cell_type": "code",
      "source": [
        "size"
      ],
      "metadata": {
        "id": "4cm1vhfwFOyK",
        "execution": {
          "iopub.status.busy": "2022-05-15T10:14:18.079467Z",
          "iopub.execute_input": "2022-05-15T10:14:18.079894Z",
          "iopub.status.idle": "2022-05-15T10:14:18.091816Z",
          "shell.execute_reply.started": "2022-05-15T10:14:18.079858Z",
          "shell.execute_reply": "2022-05-15T10:14:18.091193Z"
        },
        "trusted": true
      },
      "execution_count": null,
      "outputs": []
    },
    {
      "cell_type": "code",
      "source": [
        "img = os.path.join(dtdir,im)"
      ],
      "metadata": {
        "id": "Dg_Ok6GzD6Vx",
        "execution": {
          "iopub.status.busy": "2022-05-15T10:14:18.093203Z",
          "iopub.execute_input": "2022-05-15T10:14:18.093654Z",
          "iopub.status.idle": "2022-05-15T10:14:18.099691Z",
          "shell.execute_reply.started": "2022-05-15T10:14:18.093619Z",
          "shell.execute_reply": "2022-05-15T10:14:18.098991Z"
        },
        "trusted": true
      },
      "execution_count": null,
      "outputs": []
    },
    {
      "cell_type": "code",
      "source": [
        "size = size.values.tolist()"
      ],
      "metadata": {
        "id": "QpTIR5u9Ii5E",
        "execution": {
          "iopub.status.busy": "2022-05-15T10:14:18.101899Z",
          "iopub.execute_input": "2022-05-15T10:14:18.102444Z",
          "iopub.status.idle": "2022-05-15T10:14:18.109128Z",
          "shell.execute_reply.started": "2022-05-15T10:14:18.1024Z",
          "shell.execute_reply": "2022-05-15T10:14:18.108501Z"
        },
        "trusted": true
      },
      "execution_count": null,
      "outputs": []
    },
    {
      "cell_type": "code",
      "source": [
        "size[0][0],size[0][1],size[0][2],size[0][3]"
      ],
      "metadata": {
        "id": "m03w9M4BJZ31",
        "execution": {
          "iopub.status.busy": "2022-05-15T10:14:18.110446Z",
          "iopub.execute_input": "2022-05-15T10:14:18.111309Z",
          "iopub.status.idle": "2022-05-15T10:14:18.120966Z",
          "shell.execute_reply.started": "2022-05-15T10:14:18.111245Z",
          "shell.execute_reply": "2022-05-15T10:14:18.120347Z"
        },
        "trusted": true
      },
      "execution_count": null,
      "outputs": []
    },
    {
      "cell_type": "code",
      "source": [
        "image = cv2.imread(img)\n",
        "plt.imshow(image)\n",
        "image.shape"
      ],
      "metadata": {
        "id": "lpzAhSlJNdWY",
        "execution": {
          "iopub.status.busy": "2022-05-15T10:14:18.123083Z",
          "iopub.execute_input": "2022-05-15T10:14:18.123578Z",
          "iopub.status.idle": "2022-05-15T10:14:18.3742Z",
          "shell.execute_reply.started": "2022-05-15T10:14:18.123543Z",
          "shell.execute_reply": "2022-05-15T10:14:18.373532Z"
        },
        "trusted": true
      },
      "execution_count": null,
      "outputs": []
    },
    {
      "cell_type": "code",
      "source": [
        "image = cv2.imread(img)\n",
        "image = image[size[0][1]:size[0][3],size[0][0]:size[0][2]]\n",
        "plt.imshow(image)\n",
        "image.shape"
      ],
      "metadata": {
        "id": "buGQ1UawA-2y",
        "execution": {
          "iopub.status.busy": "2022-05-15T10:14:18.375246Z",
          "iopub.execute_input": "2022-05-15T10:14:18.375766Z",
          "iopub.status.idle": "2022-05-15T10:14:18.588487Z",
          "shell.execute_reply.started": "2022-05-15T10:14:18.375728Z",
          "shell.execute_reply": "2022-05-15T10:14:18.587702Z"
        },
        "trusted": true
      },
      "execution_count": null,
      "outputs": []
    },
    {
      "cell_type": "code",
      "source": [
        "query = pd.read_csv(\"./flickr_logos_27_dataset/flickr_logos_27_dataset_query_set_annotation.txt\", sep='\\s+',header=None)"
      ],
      "metadata": {
        "id": "XSJR54OmianJ",
        "execution": {
          "iopub.status.busy": "2022-05-15T10:14:18.589743Z",
          "iopub.execute_input": "2022-05-15T10:14:18.590072Z",
          "iopub.status.idle": "2022-05-15T10:14:18.598832Z",
          "shell.execute_reply.started": "2022-05-15T10:14:18.590037Z",
          "shell.execute_reply": "2022-05-15T10:14:18.598059Z"
        },
        "trusted": true
      },
      "execution_count": null,
      "outputs": []
    },
    {
      "cell_type": "code",
      "source": [
        "query"
      ],
      "metadata": {
        "id": "_PocPjDUi3TN",
        "execution": {
          "iopub.status.busy": "2022-05-15T10:14:18.601079Z",
          "iopub.execute_input": "2022-05-15T10:14:18.60177Z",
          "iopub.status.idle": "2022-05-15T10:14:18.612176Z",
          "shell.execute_reply.started": "2022-05-15T10:14:18.601731Z",
          "shell.execute_reply": "2022-05-15T10:14:18.611481Z"
        },
        "trusted": true
      },
      "execution_count": null,
      "outputs": []
    },
    {
      "cell_type": "code",
      "source": [
        "img = os.path.join(dtdir,query[0][5])\n",
        "image = cv2.imread(img)\n",
        "plt.imshow(image)\n",
        "image.shape"
      ],
      "metadata": {
        "id": "5_c_mmqOjuEB",
        "execution": {
          "iopub.status.busy": "2022-05-15T10:14:18.613577Z",
          "iopub.execute_input": "2022-05-15T10:14:18.613976Z",
          "iopub.status.idle": "2022-05-15T10:14:18.823317Z",
          "shell.execute_reply.started": "2022-05-15T10:14:18.613941Z",
          "shell.execute_reply": "2022-05-15T10:14:18.822653Z"
        },
        "trusted": true
      },
      "execution_count": null,
      "outputs": []
    },
    {
      "cell_type": "code",
      "source": [
        "testdist = 'TEST'"
      ],
      "metadata": {
        "id": "7JgbRSBdohaX",
        "execution": {
          "iopub.status.busy": "2022-05-15T10:14:18.824604Z",
          "iopub.execute_input": "2022-05-15T10:14:18.824853Z",
          "iopub.status.idle": "2022-05-15T10:14:18.829583Z",
          "shell.execute_reply.started": "2022-05-15T10:14:18.824819Z",
          "shell.execute_reply": "2022-05-15T10:14:18.828755Z"
        },
        "trusted": true
      },
      "execution_count": null,
      "outputs": []
    },
    {
      "cell_type": "code",
      "source": [
        "if not os.path.exists(testdist):\n",
        "    os.makedirs(testdist)"
      ],
      "metadata": {
        "id": "ZEjvSDUeoe3d",
        "execution": {
          "iopub.status.busy": "2022-05-15T10:14:18.830882Z",
          "iopub.execute_input": "2022-05-15T10:14:18.831921Z",
          "iopub.status.idle": "2022-05-15T10:14:18.838089Z",
          "shell.execute_reply.started": "2022-05-15T10:14:18.831885Z",
          "shell.execute_reply": "2022-05-15T10:14:18.837377Z"
        },
        "trusted": true
      },
      "execution_count": null,
      "outputs": []
    },
    {
      "cell_type": "code",
      "source": [
        "\n",
        "y = list(set(list(Y)))\n",
        "y.sort()"
      ],
      "metadata": {
        "id": "vT3TEQgOz0lx",
        "execution": {
          "iopub.status.busy": "2022-05-15T10:14:18.839231Z",
          "iopub.execute_input": "2022-05-15T10:14:18.840071Z",
          "iopub.status.idle": "2022-05-15T10:14:18.847926Z",
          "shell.execute_reply.started": "2022-05-15T10:14:18.840033Z",
          "shell.execute_reply": "2022-05-15T10:14:18.847125Z"
        },
        "trusted": true
      },
      "execution_count": null,
      "outputs": []
    },
    {
      "cell_type": "code",
      "source": [
        "for i in y:\n",
        "    os.makedirs(os.path.join(testdist,i))"
      ],
      "metadata": {
        "id": "gCtMeVsaqmGG",
        "execution": {
          "iopub.status.busy": "2022-05-15T10:14:18.849547Z",
          "iopub.execute_input": "2022-05-15T10:14:18.849843Z",
          "iopub.status.idle": "2022-05-15T10:14:18.858284Z",
          "shell.execute_reply.started": "2022-05-15T10:14:18.849807Z",
          "shell.execute_reply": "2022-05-15T10:14:18.857452Z"
        },
        "trusted": true
      },
      "execution_count": null,
      "outputs": []
    },
    {
      "cell_type": "code",
      "source": [
        "for i in y:\n",
        "    os.makedirs(os.path.join(dest,i))"
      ],
      "metadata": {
        "id": "J7Wa4_ei_DCn",
        "execution": {
          "iopub.status.busy": "2022-05-15T10:14:18.864527Z",
          "iopub.execute_input": "2022-05-15T10:14:18.866148Z",
          "iopub.status.idle": "2022-05-15T10:14:18.871979Z",
          "shell.execute_reply.started": "2022-05-15T10:14:18.86611Z",
          "shell.execute_reply": "2022-05-15T10:14:18.871239Z"
        },
        "trusted": true
      },
      "execution_count": null,
      "outputs": []
    },
    {
      "cell_type": "code",
      "source": [
        "distractor = pd.read_csv(\"./flickr_logos_27_dataset/flickr_logos_27_dataset_distractor_set_urls.txt\", sep='\\s+',header=None)"
      ],
      "metadata": {
        "id": "hYQiXYlVi-tE",
        "execution": {
          "iopub.status.busy": "2022-05-15T10:14:18.873595Z",
          "iopub.execute_input": "2022-05-15T10:14:18.874226Z",
          "iopub.status.idle": "2022-05-15T10:14:18.888995Z",
          "shell.execute_reply.started": "2022-05-15T10:14:18.874127Z",
          "shell.execute_reply": "2022-05-15T10:14:18.888358Z"
        },
        "trusted": true
      },
      "execution_count": null,
      "outputs": []
    },
    {
      "cell_type": "code",
      "source": [
        "distractor"
      ],
      "metadata": {
        "id": "x9Bcbdkzjfye",
        "execution": {
          "iopub.status.busy": "2022-05-15T10:14:18.890409Z",
          "iopub.execute_input": "2022-05-15T10:14:18.890906Z",
          "iopub.status.idle": "2022-05-15T10:14:18.902188Z",
          "shell.execute_reply.started": "2022-05-15T10:14:18.890869Z",
          "shell.execute_reply": "2022-05-15T10:14:18.901468Z"
        },
        "trusted": true
      },
      "execution_count": null,
      "outputs": []
    },
    {
      "cell_type": "code",
      "source": [
        "HEIGHT = 224\n",
        "WIDTH =  224"
      ],
      "metadata": {
        "id": "wSUgCWCfhVFi",
        "execution": {
          "iopub.status.busy": "2022-05-15T10:14:18.903577Z",
          "iopub.execute_input": "2022-05-15T10:14:18.904073Z",
          "iopub.status.idle": "2022-05-15T10:14:18.907875Z",
          "shell.execute_reply.started": "2022-05-15T10:14:18.904027Z",
          "shell.execute_reply": "2022-05-15T10:14:18.907103Z"
        },
        "trusted": true
      },
      "execution_count": null,
      "outputs": []
    },
    {
      "cell_type": "markdown",
      "source": [
        "## Removing Corrupt Images"
      ],
      "metadata": {
        "id": "3zEIqak1a2uz"
      }
    },
    {
      "cell_type": "code",
      "source": [
        "for i in range(len(X)):\n",
        "    try:\n",
        "        destrain = os.path.join(dest,Y[i])\n",
        "        savepath = os.path.join(destrain,X[i])\n",
        "        img  = os.path.join(dtdir,X[i])\n",
        "        image = cv2.imread(img)\n",
        "        image = image[size[i][1]:size[i][3],size[i][0]:size[i][2]]\n",
        "        image = cv2.resize(image,(WIDTH,HEIGHT))\n",
        "        cv2.imwrite(savepath,image)\n",
        "    except:\n",
        "        print('error')\n",
        "        pass"
      ],
      "metadata": {
        "id": "67kcB2IcrUGU",
        "execution": {
          "iopub.status.busy": "2022-05-15T10:14:18.909627Z",
          "iopub.execute_input": "2022-05-15T10:14:18.910209Z",
          "iopub.status.idle": "2022-05-15T10:14:40.028733Z",
          "shell.execute_reply.started": "2022-05-15T10:14:18.910169Z",
          "shell.execute_reply": "2022-05-15T10:14:40.028008Z"
        },
        "trusted": true
      },
      "execution_count": null,
      "outputs": []
    },
    {
      "cell_type": "code",
      "source": [
        "A = query.iloc[:,0]\n",
        "B = query.iloc[:,1]"
      ],
      "metadata": {
        "id": "LWo-J-3BuJNx",
        "execution": {
          "iopub.status.busy": "2022-05-15T10:14:40.0302Z",
          "iopub.execute_input": "2022-05-15T10:14:40.030445Z",
          "iopub.status.idle": "2022-05-15T10:14:40.035957Z",
          "shell.execute_reply.started": "2022-05-15T10:14:40.030411Z",
          "shell.execute_reply": "2022-05-15T10:14:40.035076Z"
        },
        "trusted": true
      },
      "execution_count": null,
      "outputs": []
    },
    {
      "cell_type": "code",
      "source": [
        "A"
      ],
      "metadata": {
        "id": "jR4MnS_4ucyD",
        "execution": {
          "iopub.status.busy": "2022-05-15T10:14:40.037796Z",
          "iopub.execute_input": "2022-05-15T10:14:40.038071Z",
          "iopub.status.idle": "2022-05-15T10:14:40.048006Z",
          "shell.execute_reply.started": "2022-05-15T10:14:40.038037Z",
          "shell.execute_reply": "2022-05-15T10:14:40.04734Z"
        },
        "trusted": true
      },
      "execution_count": null,
      "outputs": []
    },
    {
      "cell_type": "code",
      "source": [
        "\n",
        "for i in range(len(A)):\n",
        "    try:\n",
        "        destrain = os.path.join(testdist,B[i])\n",
        "        savepath = os.path.join(destrain,A[i])\n",
        "        img  = os.path.join(dtdir,A[i])\n",
        "        image = cv2.imread(img)\n",
        "        image = cv2.resize(image,(WIDTH,HEIGHT))\n",
        "        cv2.imwrite(savepath,image)\n",
        "    except:\n",
        "        print('error')\n",
        "        pass\n"
      ],
      "metadata": {
        "id": "kqdjB3EyOMRz",
        "execution": {
          "iopub.status.busy": "2022-05-15T10:14:40.049074Z",
          "iopub.execute_input": "2022-05-15T10:14:40.04956Z",
          "iopub.status.idle": "2022-05-15T10:14:41.120312Z",
          "shell.execute_reply.started": "2022-05-15T10:14:40.049522Z",
          "shell.execute_reply": "2022-05-15T10:14:41.11957Z"
        },
        "trusted": true
      },
      "execution_count": null,
      "outputs": []
    },
    {
      "cell_type": "code",
      "source": [
        "imagePaths = list(paths.list_images(testdist))"
      ],
      "metadata": {
        "id": "YZDoZSAtxAIw",
        "execution": {
          "iopub.status.busy": "2022-05-15T10:14:41.121355Z",
          "iopub.execute_input": "2022-05-15T10:14:41.121614Z",
          "iopub.status.idle": "2022-05-15T10:14:41.128476Z",
          "shell.execute_reply.started": "2022-05-15T10:14:41.121579Z",
          "shell.execute_reply": "2022-05-15T10:14:41.12781Z"
        },
        "trusted": true
      },
      "execution_count": null,
      "outputs": []
    },
    {
      "cell_type": "code",
      "source": [
        "img = imagePaths[40]\n",
        "print(img)\n",
        "image = cv2.imread(img)\n",
        "plt.imshow(image)\n",
        "image.shape"
      ],
      "metadata": {
        "id": "Pqn1L12ExRyh",
        "execution": {
          "iopub.status.busy": "2022-05-15T10:14:41.129825Z",
          "iopub.execute_input": "2022-05-15T10:14:41.130317Z",
          "iopub.status.idle": "2022-05-15T10:14:41.342457Z",
          "shell.execute_reply.started": "2022-05-15T10:14:41.130278Z",
          "shell.execute_reply": "2022-05-15T10:14:41.341859Z"
        },
        "trusted": true
      },
      "execution_count": null,
      "outputs": []
    },
    {
      "cell_type": "markdown",
      "source": [
        "## Image Augmentation"
      ],
      "metadata": {
        "id": "JKpxu8s_a2u0"
      }
    },
    {
      "cell_type": "code",
      "source": [
        "train = ImageDataGenerator(\n",
        "rescale = 1/255,\n",
        "horizontal_flip=True,\n",
        "vertical_flip=True,\n",
        "shear_range=0.2,\n",
        "zoom_range=0.2,\n",
        "featurewise_center=True, # Set input mean to 0 over the dataset, feature-wise\n",
        "featurewise_std_normalization=True, # Divide inputs by std of the dataset, feature-wise\n",
        "rotation_range=40, # Degree range for random rotations\n",
        "width_shift_range=0.2,\n",
        "height_shift_range=0.2,\n",
        "fill_mode='nearest',\n",
        "validation_split = 0.2)"
      ],
      "metadata": {
        "id": "eIJH2pUfR6eV",
        "execution": {
          "iopub.status.busy": "2022-05-15T10:14:41.343815Z",
          "iopub.execute_input": "2022-05-15T10:14:41.344278Z",
          "iopub.status.idle": "2022-05-15T10:14:41.350044Z",
          "shell.execute_reply.started": "2022-05-15T10:14:41.344242Z",
          "shell.execute_reply": "2022-05-15T10:14:41.3494Z"
        },
        "trusted": true
      },
      "execution_count": null,
      "outputs": []
    },
    {
      "cell_type": "code",
      "source": [
        "imagePaths = list(paths.list_images(dest))"
      ],
      "metadata": {
        "id": "7w7YrfDmqmOn",
        "execution": {
          "iopub.status.busy": "2022-05-15T10:14:41.351339Z",
          "iopub.execute_input": "2022-05-15T10:14:41.351655Z",
          "iopub.status.idle": "2022-05-15T10:14:41.363529Z",
          "shell.execute_reply.started": "2022-05-15T10:14:41.351622Z",
          "shell.execute_reply": "2022-05-15T10:14:41.362846Z"
        },
        "trusted": true
      },
      "execution_count": null,
      "outputs": []
    },
    {
      "cell_type": "code",
      "source": [
        "os.makedirs('preview')"
      ],
      "metadata": {
        "id": "TXY-LkfCrOwd",
        "execution": {
          "iopub.status.busy": "2022-05-15T10:14:41.366344Z",
          "iopub.execute_input": "2022-05-15T10:14:41.366516Z",
          "iopub.status.idle": "2022-05-15T10:14:41.372547Z",
          "shell.execute_reply.started": "2022-05-15T10:14:41.366495Z",
          "shell.execute_reply": "2022-05-15T10:14:41.371777Z"
        },
        "trusted": true
      },
      "execution_count": null,
      "outputs": []
    },
    {
      "cell_type": "code",
      "source": [
        "img = load_img(imagePaths[50])  # this is a PIL image\n",
        "x = img_to_array(img)  # this is a Numpy array with shape (3, 150, 150)\n",
        "x = x.reshape((1,) + x.shape)  # this is a Numpy array with shape (1, 3, 150, 150)\n",
        "\n",
        "# the .flow() command below generates batches of randomly transformed images\n",
        "# and saves the results to the `preview/` directory\n",
        "i = 0\n",
        "for batch in train.flow(x, batch_size=1,\n",
        "                          save_to_dir='preview', save_prefix='yh', save_format='jpeg'):\n",
        "    i += 1\n",
        "    if i > 10:\n",
        "        break  # otherwise the generator would loop indefinitely"
      ],
      "metadata": {
        "id": "WWTStowbqgnH",
        "execution": {
          "iopub.status.busy": "2022-05-15T10:14:41.373663Z",
          "iopub.execute_input": "2022-05-15T10:14:41.373992Z",
          "iopub.status.idle": "2022-05-15T10:14:41.508046Z",
          "shell.execute_reply.started": "2022-05-15T10:14:41.373954Z",
          "shell.execute_reply": "2022-05-15T10:14:41.507199Z"
        },
        "trusted": true
      },
      "execution_count": null,
      "outputs": []
    },
    {
      "cell_type": "markdown",
      "source": [
        "## Samples Visualization"
      ],
      "metadata": {
        "id": "7ghqyA4-a2u1"
      }
    },
    {
      "cell_type": "code",
      "source": [
        "image = cv2.imread(imagePaths[50])\n",
        "plt.imshow(image)\n",
        "image.shape"
      ],
      "metadata": {
        "id": "boGUZOsyAZUC",
        "execution": {
          "iopub.status.busy": "2022-05-15T10:14:41.509821Z",
          "iopub.execute_input": "2022-05-15T10:14:41.510089Z",
          "iopub.status.idle": "2022-05-15T10:14:41.92654Z",
          "shell.execute_reply.started": "2022-05-15T10:14:41.510055Z",
          "shell.execute_reply": "2022-05-15T10:14:41.925858Z"
        },
        "trusted": true
      },
      "execution_count": null,
      "outputs": []
    },
    {
      "cell_type": "code",
      "source": [
        "import glob\n",
        "import matplotlib.pyplot as plt\n",
        "import matplotlib.image as mpimg\n",
        "%matplotlib inline\n",
        "\n",
        "images = []\n",
        "for img_path in glob.glob('preview/*.jpeg'):\n",
        "    images.append(mpimg.imread(img_path))\n",
        "\n",
        "plt.figure(figsize=(20,10))\n",
        "columns = 5\n",
        "for i, image in enumerate(images):\n",
        "    plt.subplot(int(len(images) / columns + 1), columns, i + 1)\n",
        "    plt.imshow(image)"
      ],
      "metadata": {
        "id": "QIv7commADzW",
        "execution": {
          "iopub.status.busy": "2022-05-15T10:14:41.927489Z",
          "iopub.execute_input": "2022-05-15T10:14:41.927672Z",
          "iopub.status.idle": "2022-05-15T10:14:43.153361Z",
          "shell.execute_reply.started": "2022-05-15T10:14:41.927648Z",
          "shell.execute_reply": "2022-05-15T10:14:43.152668Z"
        },
        "trusted": true
      },
      "execution_count": null,
      "outputs": []
    },
    {
      "cell_type": "code",
      "source": [
        "HEIGHT = 224\n",
        "WIDTH = 224\n",
        "INIT_LR = 1e-4\n",
        "EPOCHS =  100\n",
        "BS = 256"
      ],
      "metadata": {
        "id": "sl1PNhXBTQ2Y",
        "execution": {
          "iopub.status.busy": "2022-05-15T10:14:43.1544Z",
          "iopub.execute_input": "2022-05-15T10:14:43.154762Z",
          "iopub.status.idle": "2022-05-15T10:14:43.160796Z",
          "shell.execute_reply.started": "2022-05-15T10:14:43.154728Z",
          "shell.execute_reply": "2022-05-15T10:14:43.159955Z"
        },
        "trusted": true
      },
      "execution_count": null,
      "outputs": []
    },
    {
      "cell_type": "markdown",
      "source": [
        "## Splitting into Train and Validation Set"
      ],
      "metadata": {
        "id": "awi_5qpIa2u1"
      }
    },
    {
      "cell_type": "code",
      "source": [
        "trainset = train.flow_from_directory(dest,\n",
        "target_size = (WIDTH,HEIGHT),\n",
        "batch_size = BS,\n",
        "shuffle=False,\n",
        "seed=42,\n",
        "color_mode='rgb',\n",
        "subset = 'training',\n",
        "class_mode='categorical')"
      ],
      "metadata": {
        "id": "slVYTU8ATiJM",
        "execution": {
          "iopub.status.busy": "2022-05-15T10:14:43.162243Z",
          "iopub.execute_input": "2022-05-15T10:14:43.162515Z",
          "iopub.status.idle": "2022-05-15T10:14:43.282301Z",
          "shell.execute_reply.started": "2022-05-15T10:14:43.162478Z",
          "shell.execute_reply": "2022-05-15T10:14:43.281505Z"
        },
        "trusted": true
      },
      "execution_count": null,
      "outputs": []
    },
    {
      "cell_type": "code",
      "source": [
        "validset = train.flow_from_directory(dest,\n",
        "target_size = (WIDTH,HEIGHT),\n",
        "batch_size = BS,\n",
        "shuffle=False,\n",
        "seed=42,\n",
        "color_mode='rgb',\n",
        "subset = 'validation',\n",
        "class_mode='categorical')"
      ],
      "metadata": {
        "id": "sXrO-h8E1Ua1",
        "execution": {
          "iopub.status.busy": "2022-05-15T10:14:43.283743Z",
          "iopub.execute_input": "2022-05-15T10:14:43.283988Z",
          "iopub.status.idle": "2022-05-15T10:14:43.392744Z",
          "shell.execute_reply.started": "2022-05-15T10:14:43.283954Z",
          "shell.execute_reply": "2022-05-15T10:14:43.392081Z"
        },
        "trusted": true
      },
      "execution_count": null,
      "outputs": []
    },
    {
      "cell_type": "code",
      "source": [
        "imagePaths = list(paths.list_images(dest))"
      ],
      "metadata": {
        "id": "lsafxg27o6l-",
        "execution": {
          "iopub.status.busy": "2022-05-15T10:14:43.393864Z",
          "iopub.execute_input": "2022-05-15T10:14:43.394138Z",
          "iopub.status.idle": "2022-05-15T10:14:43.404487Z",
          "shell.execute_reply.started": "2022-05-15T10:14:43.394104Z",
          "shell.execute_reply": "2022-05-15T10:14:43.403691Z"
        },
        "trusted": true
      },
      "execution_count": null,
      "outputs": []
    },
    {
      "cell_type": "code",
      "source": [
        "#trainset.filenames"
      ],
      "metadata": {
        "id": "wlLhNXquvGXS",
        "execution": {
          "iopub.status.busy": "2022-05-15T10:14:43.406088Z",
          "iopub.execute_input": "2022-05-15T10:14:43.406389Z",
          "iopub.status.idle": "2022-05-15T10:14:43.410041Z",
          "shell.execute_reply.started": "2022-05-15T10:14:43.406352Z",
          "shell.execute_reply": "2022-05-15T10:14:43.409051Z"
        },
        "trusted": true
      },
      "execution_count": null,
      "outputs": []
    },
    {
      "cell_type": "code",
      "source": [
        "trainset.class_indices"
      ],
      "metadata": {
        "id": "tM8rKpj0vPN1",
        "execution": {
          "iopub.status.busy": "2022-05-15T10:14:43.411631Z",
          "iopub.execute_input": "2022-05-15T10:14:43.412182Z",
          "iopub.status.idle": "2022-05-15T10:14:43.421636Z",
          "shell.execute_reply.started": "2022-05-15T10:14:43.412144Z",
          "shell.execute_reply": "2022-05-15T10:14:43.42085Z"
        },
        "trusted": true
      },
      "execution_count": null,
      "outputs": []
    },
    {
      "cell_type": "markdown",
      "source": [
        "## Model Architecture"
      ],
      "metadata": {
        "id": "YM7UAudpa2u2"
      }
    },
    {
      "cell_type": "code",
      "source": [
        "# load the MobileNetV2 network, ensuring the head FC layer sets are\n",
        "# left off\n",
        "baseModel = Xception(weights=\"imagenet\", include_top=False,input_tensor=Input(shape=(WIDTH, HEIGHT, 3)))\n",
        "\n",
        "# construct the head of the model that will be placed on top of the\n",
        "# the base model\n",
        "headModel = baseModel.output\n",
        "\n",
        "headModel = AveragePooling2D(pool_size=(5, 5))(headModel)\n",
        "headModel = Flatten(name=\"flatten\")(headModel)\n",
        "\n",
        "headModel = Dense(128, activation=\"relu\")(headModel)\n",
        "headModel = Dropout(0.5)(headModel)\n",
        "\n",
        "headModel = Dense(trainset.num_classes, activation=\"softmax\")(headModel)\n",
        "# place the head FC model on top of the base model (this will become\n",
        "# the actual model we will train)\n",
        "model = Model(inputs=baseModel.input, outputs=headModel)\n",
        "# loop over all layers in the base model and freeze them so they will\n",
        "# *not* be updated during the first training process\n",
        "for layer in baseModel.layers:\n",
        "\tlayer.trainable = False\n",
        "\n",
        "# compile our model\n",
        "print(\"[INFO] compiling model...\")\n",
        "#sgd = SGD(lr=INIT_LR,momentum=0.9,nesterov=False)\n",
        "model.compile(loss=\"categorical_crossentropy\", optimizer='Adam',metrics=[\"accuracy\"])\n",
        "# train the head of the network"
      ],
      "metadata": {
        "id": "l1yhZ0I2T-Ed",
        "execution": {
          "iopub.status.busy": "2022-05-15T10:14:43.422982Z",
          "iopub.execute_input": "2022-05-15T10:14:43.423444Z",
          "iopub.status.idle": "2022-05-15T10:14:47.827818Z",
          "shell.execute_reply.started": "2022-05-15T10:14:43.423406Z",
          "shell.execute_reply": "2022-05-15T10:14:47.826069Z"
        },
        "trusted": true
      },
      "execution_count": null,
      "outputs": []
    },
    {
      "cell_type": "code",
      "source": [
        "totalTrain = len(list(paths.list_images(dest)))\n",
        "totalTrain"
      ],
      "metadata": {
        "id": "DWsVetRNnDbK",
        "execution": {
          "iopub.status.busy": "2022-05-15T10:14:47.829304Z",
          "iopub.execute_input": "2022-05-15T10:14:47.829654Z",
          "iopub.status.idle": "2022-05-15T10:14:47.842936Z",
          "shell.execute_reply.started": "2022-05-15T10:14:47.829614Z",
          "shell.execute_reply": "2022-05-15T10:14:47.841807Z"
        },
        "trusted": true
      },
      "execution_count": null,
      "outputs": []
    },
    {
      "cell_type": "markdown",
      "source": [
        "## Train Results"
      ],
      "metadata": {
        "id": "PghWsD2Wa2u2"
      }
    },
    {
      "cell_type": "code",
      "source": [
        "H = model.fit_generator(\n",
        "\ttrainset,\n",
        "  validation_data = validset,\n",
        "\tepochs=EPOCHS)"
      ],
      "metadata": {
        "id": "UwuSQMJZWGBM",
        "outputId": "506ffd88-bf57-4df8-dea5-d33c59f0a4bb",
        "execution": {
          "iopub.status.busy": "2022-05-15T10:14:47.844437Z",
          "iopub.execute_input": "2022-05-15T10:14:47.844842Z",
          "iopub.status.idle": "2022-05-15T10:32:12.554044Z",
          "shell.execute_reply.started": "2022-05-15T10:14:47.844805Z",
          "shell.execute_reply": "2022-05-15T10:32:12.553334Z"
        },
        "trusted": true,
        "colab": {
          "base_uri": "https://localhost:8080/"
        }
      },
      "execution_count": null,
      "outputs": [
        {
          "metadata": {
            "tags": null
          },
          "name": "stderr",
          "output_type": "stream",
          "text": [
            "/usr/local/lib/python3.11/dist-packages/keras/src/trainers/data_adapters/py_dataset_adapter.py:121: UserWarning: Your `PyDataset` class should call `super().__init__(**kwargs)` in its constructor. `**kwargs` can include `workers`, `use_multiprocessing`, `max_queue_size`. Do not pass these arguments to `fit()`, as they will be ignored.\n",
            "  self._warn_if_super_not_called()\n"
          ]
        },
        {
          "metadata": {
            "tags": null
          },
          "name": "stdout",
          "output_type": "stream",
          "text": [
            "Epoch 1/100\n"
          ]
        },
        {
          "metadata": {
            "tags": null
          },
          "name": "stderr",
          "output_type": "stream",
          "text": [
            "/usr/local/lib/python3.11/dist-packages/keras/src/models/functional.py:237: UserWarning: The structure of `inputs` doesn't match the expected structure.\n",
            "Expected: ['keras_tensor']\n",
            "Received: inputs=Tensor(shape=(None, 224, 224, 3))\n",
            "  warnings.warn(msg)\n"
          ]
        },
        {
          "metadata": {
            "tags": null
          },
          "name": "stdout",
          "output_type": "stream",
          "text": [
            "\u001b[1m3/3\u001b[0m \u001b[32m━━━━━━━━━━━━━━━━━━━━\u001b[0m\u001b[37m\u001b[0m \u001b[1m240s\u001b[0m 80s/step - accuracy: 0.0226 - loss: 3.6709 - val_accuracy: 0.1180 - val_loss: 3.1784\n",
            "Epoch 2/100\n",
            "\u001b[1m3/3\u001b[0m \u001b[32m━━━━━━━━━━━━━━━━━━━━\u001b[0m\u001b[37m\u001b[0m \u001b[1m226s\u001b[0m 77s/step - accuracy: 0.0719 - loss: 3.3400 - val_accuracy: 0.2236 - val_loss: 3.0047\n",
            "Epoch 3/100\n",
            "\u001b[1m3/3\u001b[0m \u001b[32m━━━━━━━━━━━━━━━━━━━━\u001b[0m\u001b[37m\u001b[0m \u001b[1m263s\u001b[0m 94s/step - accuracy: 0.1283 - loss: 3.0803 - val_accuracy: 0.3168 - val_loss: 2.8148\n",
            "Epoch 4/100\n",
            "\u001b[1m3/3\u001b[0m \u001b[32m━━━━━━━━━━━━━━━━━━━━\u001b[0m\u001b[37m\u001b[0m \u001b[1m227s\u001b[0m 76s/step - accuracy: 0.1809 - loss: 2.9033 - val_accuracy: 0.4099 - val_loss: 2.5630\n",
            "Epoch 5/100\n",
            "\u001b[1m3/3\u001b[0m \u001b[32m━━━━━━━━━━━━━━━━━━━━\u001b[0m\u001b[37m\u001b[0m \u001b[1m210s\u001b[0m 69s/step - accuracy: 0.2786 - loss: 2.6901 - val_accuracy: 0.4969 - val_loss: 2.3445\n",
            "Epoch 6/100\n",
            "\u001b[1m3/3\u001b[0m \u001b[32m━━━━━━━━━━━━━━━━━━━━\u001b[0m\u001b[37m\u001b[0m \u001b[1m205s\u001b[0m 68s/step - accuracy: 0.3568 - loss: 2.4815 - val_accuracy: 0.5652 - val_loss: 2.1070\n",
            "Epoch 7/100\n"
          ]
        }
      ]
    },
    {
      "cell_type": "markdown",
      "source": [
        "## Results Plot"
      ],
      "metadata": {
        "id": "kwVE6Iz8a2u2"
      }
    },
    {
      "cell_type": "code",
      "source": [
        "# plot the training loss and accuracy\n",
        "N = EPOCHS\n",
        "plt.style.use(\"ggplot\")\n",
        "plt.figure()\n",
        "plt.plot(np.arange(0, N), H.history[\"loss\"], label=\"train_loss\")\n",
        "plt.plot(np.arange(0, N), H.history[\"val_loss\"], label=\"val_loss\")\n",
        "plt.title(\"Training Loss VS Validation Loss\")\n",
        "plt.xlabel(\"Epoch #\")\n",
        "plt.ylabel(\"Loss/Accuracy\")\n",
        "plt.legend(loc=\"lower left\")\n",
        "plt.show()\n",
        "plt.savefig('graph.png')"
      ],
      "metadata": {
        "id": "6eweq8YjnpF8",
        "execution": {
          "iopub.status.busy": "2022-05-15T10:32:12.555645Z",
          "iopub.execute_input": "2022-05-15T10:32:12.555899Z",
          "iopub.status.idle": "2022-05-15T10:32:12.756581Z",
          "shell.execute_reply.started": "2022-05-15T10:32:12.555866Z",
          "shell.execute_reply": "2022-05-15T10:32:12.755894Z"
        },
        "trusted": true
      },
      "execution_count": null,
      "outputs": []
    },
    {
      "cell_type": "code",
      "source": [
        "N = EPOCHS\n",
        "plt.style.use(\"ggplot\")\n",
        "plt.figure()\n",
        "plt.plot(np.arange(0, N), H.history[\"accuracy\"], label=\"train_acc\")\n",
        "plt.plot(np.arange(0, N), H.history[\"val_accuracy\"], label=\"val_acc\")\n",
        "plt.title(\" Accuracy\")\n",
        "plt.xlabel(\"Epoch #\")\n",
        "plt.ylabel(\"Accuracy\")\n",
        "plt.legend(loc=\"lower left\")\n",
        "plt.show()"
      ],
      "metadata": {
        "id": "Z6bZTs1m5ykq",
        "execution": {
          "iopub.status.busy": "2022-05-15T10:32:12.757956Z",
          "iopub.execute_input": "2022-05-15T10:32:12.758242Z",
          "iopub.status.idle": "2022-05-15T10:32:12.93858Z",
          "shell.execute_reply.started": "2022-05-15T10:32:12.758205Z",
          "shell.execute_reply": "2022-05-15T10:32:12.93788Z"
        },
        "trusted": true
      },
      "execution_count": null,
      "outputs": []
    },
    {
      "cell_type": "markdown",
      "source": [
        "## F1-score Precision Recall"
      ],
      "metadata": {
        "id": "0jUciOmra2u3"
      }
    },
    {
      "cell_type": "code",
      "source": [
        "# reset the testing generator and then use our trained model to\n",
        "# make predictions on the data\n",
        "print(\"[INFO] evaluating after fine-tuning network...\")\n",
        "validset.reset()\n",
        "predIdxs = model.predict(x=validset)\n",
        "predIdxs = np.argmax(predIdxs, axis=1)\n",
        "print(classification_report(validset.classes, predIdxs,\n",
        "\ttarget_names=validset.class_indices.keys()))\n",
        "# serialize the model to disk\n",
        "print(\"[INFO] serializing network...\")\n",
        "model.save('logo.model', save_format=\"h5\")"
      ],
      "metadata": {
        "id": "XN0gOD9RxffC",
        "execution": {
          "iopub.status.busy": "2022-05-15T10:32:12.939877Z",
          "iopub.execute_input": "2022-05-15T10:32:12.940507Z",
          "iopub.status.idle": "2022-05-15T10:32:17.684318Z",
          "shell.execute_reply.started": "2022-05-15T10:32:12.940468Z",
          "shell.execute_reply": "2022-05-15T10:32:17.683588Z"
        },
        "trusted": true
      },
      "execution_count": null,
      "outputs": []
    },
    {
      "cell_type": "markdown",
      "source": [
        "## Some Prdictions from Test Set"
      ],
      "metadata": {
        "id": "DYJ0crTca2u3"
      }
    },
    {
      "cell_type": "code",
      "source": [
        "testimage = list(paths.list_images('./flickr_logos_27_dataset_images'))"
      ],
      "metadata": {
        "id": "cq6JeYyeK3Fy",
        "execution": {
          "iopub.status.busy": "2022-05-15T10:32:17.685524Z",
          "iopub.execute_input": "2022-05-15T10:32:17.685758Z",
          "iopub.status.idle": "2022-05-15T10:32:17.694776Z",
          "shell.execute_reply.started": "2022-05-15T10:32:17.685726Z",
          "shell.execute_reply": "2022-05-15T10:32:17.69398Z"
        },
        "trusted": true
      },
      "execution_count": null,
      "outputs": []
    },
    {
      "cell_type": "code",
      "source": [
        "model.get_config"
      ],
      "metadata": {
        "id": "EGPwn8rVM3yr",
        "execution": {
          "iopub.status.busy": "2022-05-15T10:32:17.695697Z",
          "iopub.execute_input": "2022-05-15T10:32:17.695959Z",
          "iopub.status.idle": "2022-05-15T10:32:17.70859Z",
          "shell.execute_reply.started": "2022-05-15T10:32:17.695925Z",
          "shell.execute_reply": "2022-05-15T10:32:17.707869Z"
        },
        "trusted": true
      },
      "execution_count": null,
      "outputs": []
    },
    {
      "cell_type": "code",
      "source": [
        "from PIL import Image\n",
        "def predimage(path):\n",
        "    image = Image.open(path)\n",
        "    plt.imshow(image)\n",
        "    test = load_img(path,target_size=(WIDTH,HEIGHT))\n",
        "    test = img_to_array(test)\n",
        "    test = np.expand_dims(test,axis=0)\n",
        "    test /= 255\n",
        "    result = model.predict(test,batch_size = BS)\n",
        "    y_class = result.argmax(axis=-1)\n",
        "    result = (result*100)\n",
        "    result = list(np.around(np.array(result),1))\n",
        "    print(result)\n",
        "    print(y[y_class[0]])"
      ],
      "metadata": {
        "id": "rLNwDLrNaur2",
        "execution": {
          "iopub.status.busy": "2022-05-15T10:32:17.709871Z",
          "iopub.execute_input": "2022-05-15T10:32:17.710211Z",
          "iopub.status.idle": "2022-05-15T10:32:17.717788Z",
          "shell.execute_reply.started": "2022-05-15T10:32:17.710174Z",
          "shell.execute_reply": "2022-05-15T10:32:17.717054Z"
        },
        "trusted": true
      },
      "execution_count": null,
      "outputs": []
    },
    {
      "cell_type": "code",
      "source": [
        "predimage(testimage[56])"
      ],
      "metadata": {
        "id": "3lSEX0seH1ci",
        "execution": {
          "iopub.status.busy": "2022-05-15T10:34:58.099833Z",
          "iopub.execute_input": "2022-05-15T10:34:58.100111Z",
          "iopub.status.idle": "2022-05-15T10:34:58.399527Z",
          "shell.execute_reply.started": "2022-05-15T10:34:58.10008Z",
          "shell.execute_reply": "2022-05-15T10:34:58.398911Z"
        },
        "trusted": true
      },
      "execution_count": null,
      "outputs": []
    },
    {
      "cell_type": "code",
      "source": [
        "predimage(imagePaths[2])"
      ],
      "metadata": {
        "id": "-8E2mO48H8NO",
        "execution": {
          "iopub.status.busy": "2022-05-15T10:32:18.759685Z",
          "iopub.execute_input": "2022-05-15T10:32:18.759997Z",
          "iopub.status.idle": "2022-05-15T10:32:19.032052Z",
          "shell.execute_reply.started": "2022-05-15T10:32:18.759963Z",
          "shell.execute_reply": "2022-05-15T10:32:19.031396Z"
        },
        "trusted": true
      },
      "execution_count": null,
      "outputs": []
    },
    {
      "cell_type": "code",
      "source": [
        "predimage(imagePaths[60])"
      ],
      "metadata": {
        "id": "zvP8AOutLUb7",
        "execution": {
          "iopub.status.busy": "2022-05-15T10:32:19.033315Z",
          "iopub.execute_input": "2022-05-15T10:32:19.034199Z",
          "iopub.status.idle": "2022-05-15T10:32:19.299456Z",
          "shell.execute_reply.started": "2022-05-15T10:32:19.034159Z",
          "shell.execute_reply": "2022-05-15T10:32:19.298822Z"
        },
        "trusted": true
      },
      "execution_count": null,
      "outputs": []
    },
    {
      "cell_type": "code",
      "source": [
        "predimage(testimage[30])"
      ],
      "metadata": {
        "id": "NUIQI1OziKCJ",
        "execution": {
          "iopub.status.busy": "2022-05-15T10:32:19.300695Z",
          "iopub.execute_input": "2022-05-15T10:32:19.301133Z",
          "iopub.status.idle": "2022-05-15T10:32:19.60493Z",
          "shell.execute_reply.started": "2022-05-15T10:32:19.301094Z",
          "shell.execute_reply": "2022-05-15T10:32:19.604219Z"
        },
        "trusted": true
      },
      "execution_count": null,
      "outputs": []
    },
    {
      "cell_type": "code",
      "source": [
        "predimage(testimage[18])"
      ],
      "metadata": {
        "execution": {
          "iopub.status.busy": "2022-05-15T10:32:19.606248Z",
          "iopub.execute_input": "2022-05-15T10:32:19.606607Z",
          "iopub.status.idle": "2022-05-15T10:32:19.929858Z",
          "shell.execute_reply.started": "2022-05-15T10:32:19.606569Z",
          "shell.execute_reply": "2022-05-15T10:32:19.929072Z"
        },
        "trusted": true,
        "id": "LDLaHQooa2u4"
      },
      "execution_count": null,
      "outputs": []
    },
    {
      "cell_type": "code",
      "source": [
        "predimage(testimage[25])"
      ],
      "metadata": {
        "execution": {
          "iopub.status.busy": "2022-05-15T10:32:19.931301Z",
          "iopub.execute_input": "2022-05-15T10:32:19.931683Z",
          "iopub.status.idle": "2022-05-15T10:32:20.258376Z",
          "shell.execute_reply.started": "2022-05-15T10:32:19.931647Z",
          "shell.execute_reply": "2022-05-15T10:32:20.257758Z"
        },
        "trusted": true,
        "id": "AlKKxDMva2u4"
      },
      "execution_count": null,
      "outputs": []
    }
  ]
}